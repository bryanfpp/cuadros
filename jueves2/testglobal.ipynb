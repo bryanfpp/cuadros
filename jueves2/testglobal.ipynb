{
 "cells": [
  {
   "cell_type": "code",
   "execution_count": 1,
   "metadata": {},
   "outputs": [],
   "source": [
    "import CodeBase.datos as da\n",
    "import CodeBase.ordenar as ord\n",
    "import CodeBase.ordenar_todo as or_to\n",
    "import CodeBase.frecuancia as fre\n",
    "import CodeBase.frecuancia_relativa as rel\n",
    "import CodeBase.Frecuancia_acomulada as acum\n",
    "import CodeBase.tabal as tb\n",
    "import CodeBase.limites as li\n",
    "import CodeBase.clasess as cla"
   ]
  },
  {
   "cell_type": "code",
   "execution_count": 9,
   "metadata": {},
   "outputs": [
    {
     "name": "stdout",
     "output_type": "stream",
     "text": [
      "[1, 2, 3, 4, 5, 6, 9]\n",
      "[2, 1, 2, 1, 3, 1, 1]\n",
      "[18.181818181818183, 9.090909090909092, 18.181818181818183, 9.090909090909092, 27.27272727272727, 9.090909090909092, 9.090909090909092]\n",
      "[18.181818181818183, 27.272727272727273, 45.45454545454545, 54.54545454545455, 81.81818181818181, 90.9090909090909, 100.0]\n",
      "|   Clase |   Frecuencia |   Límites inferiores |   Límites superiores |   Marcas de clase |   Frecuencia Relativa |   Frecuancia Absoluta |\n",
      "|---------+--------------+----------------------+----------------------+-------------------+-----------------------+-----------------------|\n",
      "|       1 |            2 |                    1 |                    2 |               1.5 |              18.1818  |               18.1818 |\n",
      "|       2 |            1 |                    2 |                    3 |               2.5 |               9.09091 |               27.2727 |\n",
      "|       3 |            2 |                    3 |                    4 |               3.5 |              18.1818  |               45.4545 |\n",
      "|       4 |            1 |                    4 |                    5 |               4.5 |               9.09091 |               54.5455 |\n",
      "|       5 |            3 |                    5 |                    6 |               5.5 |              27.2727  |               81.8182 |\n",
      "|       6 |            1 |                    6 |                    9 |               7.5 |               9.09091 |               90.9091 |\n"
     ]
    }
   ],
   "source": [
    "datos = [3, 1, 4, 1, 5, 9, 2, 6, 5, 3, 5]\n",
    "clases_originales,repeticiones = da.frecuancia_abs(datos)\n",
    "clases = ord.ordenar_abs(clases_originales)\n",
    "fa_sorted = or_to.fac_to(repeticiones,clases,clases_originales)\n",
    "limite_inferior, limite_superior, marca_clase = li.obtener_limites(fa_sorted)\n",
    "fr= fre.fr_abs(fa_sorted)\n",
    "fg = rel.mu_abs(fr)\n",
    "suma_total = acum.sum_abs(fg)\n",
    "lower_bounds, upper_bounds, class_marks, class_freqs = cla.get_class_info(clases, repeticiones)\n",
    "print(clases)\n",
    "print(fa_sorted)\n",
    "print(fg)\n",
    "print(suma_total)\n",
    "\n",
    "tb.printTable([\"Clase\",\"Frecuencia\",\"Límites inferiores\",\"Límites superiores\",\"Marcas de clase\", \"Frecuencia Relativa\", \"Frecuancia Absoluta\"], [clases,fa_sorted,lower_bounds,upper_bounds,class_marks, fg, suma_total])\n",
    "\n"
   ]
  }
 ],
 "metadata": {
  "kernelspec": {
   "display_name": "Python 3",
   "language": "python",
   "name": "python3"
  },
  "language_info": {
   "codemirror_mode": {
    "name": "ipython",
    "version": 3
   },
   "file_extension": ".py",
   "mimetype": "text/x-python",
   "name": "python",
   "nbconvert_exporter": "python",
   "pygments_lexer": "ipython3",
   "version": "3.11.9"
  }
 },
 "nbformat": 4,
 "nbformat_minor": 2
}
